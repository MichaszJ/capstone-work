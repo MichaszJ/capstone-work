{
 "cells": [
  {
   "cell_type": "code",
   "execution_count": 1,
   "id": "74372af0",
   "metadata": {},
   "outputs": [],
   "source": [
    "using LinearAlgebra"
   ]
  },
  {
   "cell_type": "code",
   "execution_count": 2,
   "id": "dd7eb8bc",
   "metadata": {},
   "outputs": [
    {
     "data": {
      "text/plain": [
       "p2DCM (generic function with 1 method)"
      ]
     },
     "execution_count": 2,
     "metadata": {},
     "output_type": "execute_result"
    }
   ],
   "source": [
    "include(\"C:/Users/mjski/Desktop/Active-Work/git-projects/scripts/scripts/spacecraft_adcs.jl\")"
   ]
  },
  {
   "cell_type": "code",
   "execution_count": 24,
   "id": "12179540",
   "metadata": {},
   "outputs": [
    {
     "data": {
      "text/plain": [
       "ecef2geocentric_latlon (generic function with 1 method)"
      ]
     },
     "execution_count": 24,
     "metadata": {},
     "output_type": "execute_result"
    }
   ],
   "source": [
    "function ECEF_LVLH(R, V)\n",
    "    x̂ = R ./ norm(R)\n",
    "    ŷ = V ./ norm(V)\n",
    "    ẑ = cross(x̂, ŷ) ./ norm(cross(x̂, ŷ))\n",
    "    \n",
    "    return x̂, ŷ, ẑ\n",
    "end\n",
    "\n",
    "function C_LVLH_ECEF(Rx, Ry, Rz, Vx, Vy, Vz)\n",
    "    #x, y, z = R\n",
    "    x̂l, ŷl, ẑl = ECEF_LVLH([Rx, Ry, Rz], [Vx, Vy, Vz])\n",
    "    \n",
    "    R̂ = [1.0, 0.0, 0.0]\n",
    "    \n",
    "    ϕ = acos(dot(R̂, x̂l))\n",
    "    \n",
    "    if ϕ != 0.0\n",
    "        α = cross(R̂, x̂l) ./ norm(cross(R̂, x̂l))\n",
    "        return cos(ϕ) .+ (1 - cos(ϕ)) .* α * α' .- sin(ϕ) .* cross_mat(α)\n",
    "    else\n",
    "        return I(3)\n",
    "    end\n",
    "end\n",
    "\n",
    "function ecef2geocentric_latlon(x, y, z)\n",
    "    λ = atan(y, x)\n",
    "    \n",
    "    r = sqrt(x^2 + y^2 + z^2)\n",
    "    p = sqrt(x^2 + y^2)\n",
    "    \n",
    "    ϕc = atan(p, z)\n",
    "\n",
    "    return π/2 - ϕc, λ \n",
    "end"
   ]
  },
  {
   "cell_type": "code",
   "execution_count": 4,
   "id": "f2c79c13",
   "metadata": {},
   "outputs": [
    {
     "data": {
      "text/plain": [
       "3-element Vector{Float64}:\n",
       " -3.8774606725730463\n",
       "  6.715958889246711\n",
       "  0.0"
      ]
     },
     "execution_count": 4,
     "metadata": {},
     "output_type": "execute_result"
    }
   ],
   "source": [
    "R_mag = 6378 + 250\n",
    "θ = π/6\n",
    "R = [cos(θ) * R_mag, sin(θ) * R_mag, 0]\n",
    "\n",
    "V_mag = sqrt(398600 / R_mag)\n",
    "V = [cos(π/2 + θ) * V_mag, sin(π/2 + θ) * V_mag, 0]"
   ]
  },
  {
   "cell_type": "code",
   "execution_count": 13,
   "id": "17d1fef7",
   "metadata": {},
   "outputs": [
    {
     "data": {
      "text/plain": [
       "([0.8660254037844387, 0.49999999999999994, 0.0], [-0.49999999999999983, 0.8660254037844388, 0.0], [0.0, -0.0, 1.0])"
      ]
     },
     "execution_count": 13,
     "metadata": {},
     "output_type": "execute_result"
    }
   ],
   "source": [
    "x, y, z = ECEF_LVLH(R, V)"
   ]
  },
  {
   "cell_type": "code",
   "execution_count": 14,
   "id": "8ec2df8e",
   "metadata": {},
   "outputs": [
    {
     "data": {
      "text/plain": [
       "3-element Vector{Float64}:\n",
       " 1.7320508075688774\n",
       " 0.9999999999999999\n",
       " 0.0"
      ]
     },
     "execution_count": 14,
     "metadata": {},
     "output_type": "execute_result"
    }
   ],
   "source": [
    "2*x"
   ]
  },
  {
   "cell_type": "code",
   "execution_count": 15,
   "id": "7ff0a919",
   "metadata": {},
   "outputs": [
    {
     "data": {
      "text/plain": [
       "3-element Vector{Float64}:\n",
       " -0.9999999999999997\n",
       "  1.7320508075688776\n",
       "  0.0"
      ]
     },
     "execution_count": 15,
     "metadata": {},
     "output_type": "execute_result"
    }
   ],
   "source": [
    "2*y"
   ]
  },
  {
   "cell_type": "code",
   "execution_count": 12,
   "id": "2c8e30d4",
   "metadata": {},
   "outputs": [
    {
     "data": {
      "text/plain": [
       "1-element Vector{Vector{Float64}}:\n",
       " [3.599884839312173, 2.0783944810285355, 0.0]"
      ]
     },
     "execution_count": 12,
     "metadata": {},
     "output_type": "execute_result"
    }
   ],
   "source": [
    "4 * [R ./ 6378]"
   ]
  },
  {
   "cell_type": "code",
   "execution_count": 17,
   "id": "f8c62881",
   "metadata": {},
   "outputs": [
    {
     "data": {
      "text/plain": [
       "4.156788962057071"
      ]
     },
     "execution_count": 17,
     "metadata": {},
     "output_type": "execute_result"
    }
   ],
   "source": [
    "4 * R_mag / 6378"
   ]
  },
  {
   "cell_type": "code",
   "execution_count": 18,
   "id": "93fd351f",
   "metadata": {},
   "outputs": [
    {
     "data": {
      "text/plain": [
       "29.999999999999996"
      ]
     },
     "execution_count": 18,
     "metadata": {},
     "output_type": "execute_result"
    }
   ],
   "source": [
    "rad2deg(π/6)"
   ]
  },
  {
   "cell_type": "code",
   "execution_count": 23,
   "id": "b04560c8",
   "metadata": {},
   "outputs": [
    {
     "data": {
      "text/plain": [
       "3-element Vector{Float64}:\n",
       " 5740.01637628326\n",
       " 3313.9999999999995\n",
       "    0.0"
      ]
     },
     "execution_count": 23,
     "metadata": {},
     "output_type": "execute_result"
    }
   ],
   "source": [
    "R"
   ]
  },
  {
   "cell_type": "code",
   "execution_count": 22,
   "id": "ef9b227d",
   "metadata": {},
   "outputs": [
    {
     "data": {
      "text/plain": [
       "3-element Vector{Float64}:\n",
       " 0.8660254037844387\n",
       " 0.3660254037844389\n",
       " 0.8660254037844387"
      ]
     },
     "execution_count": 22,
     "metadata": {},
     "output_type": "execute_result"
    }
   ],
   "source": [
    "C_LVLH_ECEF(R[1], R[2], R[3], V[1], V[2], V[3]) * [1,0,0]"
   ]
  },
  {
   "cell_type": "code",
   "execution_count": null,
   "id": "9ef7d8e8",
   "metadata": {},
   "outputs": [],
   "source": [
    "function C_LVLH_ECEF2(R)\n",
    "    x, y, z = R\n",
    "    δ, λ = ecef2geocentric_latlon(x, y, z)\n",
    "    \n",
    "    return par_2(λ)\n",
    "end"
   ]
  }
 ],
 "metadata": {
  "kernelspec": {
   "display_name": "Julia 1.7.2",
   "language": "julia",
   "name": "julia-1.7"
  },
  "language_info": {
   "file_extension": ".jl",
   "mimetype": "application/julia",
   "name": "julia",
   "version": "1.7.2"
  },
  "toc": {
   "base_numbering": 1,
   "nav_menu": {},
   "number_sections": true,
   "sideBar": true,
   "skip_h1_title": false,
   "title_cell": "Table of Contents",
   "title_sidebar": "Contents",
   "toc_cell": false,
   "toc_position": {},
   "toc_section_display": true,
   "toc_window_display": false
  },
  "varInspector": {
   "cols": {
    "lenName": 16,
    "lenType": 16,
    "lenVar": 40
   },
   "kernels_config": {
    "python": {
     "delete_cmd_postfix": "",
     "delete_cmd_prefix": "del ",
     "library": "var_list.py",
     "varRefreshCmd": "print(var_dic_list())"
    },
    "r": {
     "delete_cmd_postfix": ") ",
     "delete_cmd_prefix": "rm(",
     "library": "var_list.r",
     "varRefreshCmd": "cat(var_dic_list()) "
    }
   },
   "types_to_exclude": [
    "module",
    "function",
    "builtin_function_or_method",
    "instance",
    "_Feature"
   ],
   "window_display": false
  }
 },
 "nbformat": 4,
 "nbformat_minor": 5
}
