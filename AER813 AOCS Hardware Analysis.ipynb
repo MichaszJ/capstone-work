{
 "cells": [
  {
   "cell_type": "code",
   "execution_count": 3,
   "id": "316a05e3",
   "metadata": {},
   "outputs": [],
   "source": [
    "using DataFrames, Plots, PlotThemes"
   ]
  },
  {
   "cell_type": "code",
   "execution_count": null,
   "id": "6fccc982",
   "metadata": {},
   "outputs": [],
   "source": [
    "imu_data = Dict(\n",
    "    \"Name\" => [\"STIM277H\", \"STIM377H\", \"NSGY-001\", \"STIM318\"],\n",
    "    \"Power\" => [1.9, 1.5, 1.0, 1.8],\n",
    "    \"Mass\" => [0.052, 0.055, 0.055, 0.055]\n",
    ")"
   ]
  },
  {
   "cell_type": "code",
   "execution_count": null,
   "id": "1f84be2c",
   "metadata": {},
   "outputs": [],
   "source": [
    "# Accuracy: ±x%\n",
    "\n",
    "mag_data = Dict(\n",
    "    \"Name\" => [\"TAM-2 Series\"],\n",
    "    \"Power\" => [0.596],\n",
    "    \"Accuracy\" => [1]\n",
    ")"
   ]
  }
 ],
 "metadata": {
  "kernelspec": {
   "display_name": "Julia 1.7.2",
   "language": "julia",
   "name": "julia-1.7"
  },
  "language_info": {
   "file_extension": ".jl",
   "mimetype": "application/julia",
   "name": "julia",
   "version": "1.7.2"
  },
  "latex_envs": {
   "LaTeX_envs_menu_present": true,
   "autoclose": false,
   "autocomplete": true,
   "bibliofile": "biblio.bib",
   "cite_by": "apalike",
   "current_citInitial": 1,
   "eqLabelWithNumbers": true,
   "eqNumInitial": 1,
   "hotkeys": {
    "equation": "Ctrl-E",
    "itemize": "Ctrl-I"
   },
   "labels_anchors": false,
   "latex_user_defs": false,
   "report_style_numbering": false,
   "user_envs_cfg": false
  },
  "toc": {
   "base_numbering": 1,
   "nav_menu": {},
   "number_sections": true,
   "sideBar": true,
   "skip_h1_title": false,
   "title_cell": "Table of Contents",
   "title_sidebar": "Contents",
   "toc_cell": false,
   "toc_position": {},
   "toc_section_display": true,
   "toc_window_display": false
  },
  "varInspector": {
   "cols": {
    "lenName": 16,
    "lenType": 16,
    "lenVar": 40
   },
   "kernels_config": {
    "python": {
     "delete_cmd_postfix": "",
     "delete_cmd_prefix": "del ",
     "library": "var_list.py",
     "varRefreshCmd": "print(var_dic_list())"
    },
    "r": {
     "delete_cmd_postfix": ") ",
     "delete_cmd_prefix": "rm(",
     "library": "var_list.r",
     "varRefreshCmd": "cat(var_dic_list()) "
    }
   },
   "types_to_exclude": [
    "module",
    "function",
    "builtin_function_or_method",
    "instance",
    "_Feature"
   ],
   "window_display": false
  }
 },
 "nbformat": 4,
 "nbformat_minor": 5
}
