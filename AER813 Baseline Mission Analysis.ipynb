{
 "cells": [
  {
   "cell_type": "code",
   "execution_count": 15,
   "id": "ec479663",
   "metadata": {
    "scrolled": true
   },
   "outputs": [],
   "source": [
    "using DifferentialEquations, Plots, PlotThemes\n",
    "include(\"../git-projects/scripts/scripts/orbital_dynamics.jl\")\n",
    "\n",
    "theme(:dark)"
   ]
  },
  {
   "cell_type": "code",
   "execution_count": 1,
   "id": "8e3c92c8",
   "metadata": {},
   "outputs": [
    {
     "data": {
      "text/plain": [
       "9.80665"
      ]
     },
     "execution_count": 1,
     "metadata": {},
     "output_type": "execute_result"
    }
   ],
   "source": [
    "const μ = 398600\n",
    "const r_e = 6378\n",
    "const g₀ = 9.80665"
   ]
  },
  {
   "cell_type": "code",
   "execution_count": 5,
   "id": "50c452e4",
   "metadata": {},
   "outputs": [
    {
     "data": {
      "text/plain": [
       "ellipse_velocity (generic function with 1 method)"
      ]
     },
     "execution_count": 5,
     "metadata": {},
     "output_type": "execute_result"
    }
   ],
   "source": [
    "function ellipse_velocity(r_apo, r_per, r_c; μ=398600)\n",
    "    a_ellipse = 0.5 * (r_apo + r_per)\n",
    "    v_ellipse = sqrt(2*μ) * sqrt(1/r_c - 1/(2 * a_ellipse))\n",
    "    \n",
    "    return v_ellipse\n",
    "end"
   ]
  },
  {
   "cell_type": "code",
   "execution_count": 6,
   "id": "c979e6a5",
   "metadata": {},
   "outputs": [
    {
     "data": {
      "text/plain": [
       "0.014367194165465946"
      ]
     },
     "execution_count": 6,
     "metadata": {},
     "output_type": "execute_result"
    }
   ],
   "source": [
    "# first maneuver\n",
    "# 350x300 km orbit to 350 km circular orbit\n",
    "r_a = r_e + 350\n",
    "r_p = r_e + 300\n",
    "\n",
    "v_circ = sqrt(μ / r_a)\n",
    "v_apo = ellipse_velocity(r_a, r_p, r_a)\n",
    "\n",
    "Δv1 = v_circ - v_apo"
   ]
  },
  {
   "cell_type": "code",
   "execution_count": 7,
   "id": "76665331",
   "metadata": {},
   "outputs": [
    {
     "data": {
      "text/plain": [
       "1.358001794850838"
      ]
     },
     "execution_count": 7,
     "metadata": {},
     "output_type": "execute_result"
    }
   ],
   "source": [
    "# second maneuver\n",
    "# 350 km circular orbit to 450 km circular orbit\n",
    "# plus inclination change of 10 degrees\n",
    "# doing plane change at apoapsis of transfer orbit, \n",
    "# as plane changes are more efficient the further the spacecraft\n",
    "# is from the body\n",
    "v_start = sqrt(μ / (r_e + 350))\n",
    "v_transfer_per = ellipse_velocity(r_e+450, r_e+350, r_e+350)\n",
    "\n",
    "v_circ = sqrt(μ / (r_e + 450))\n",
    "v_transfer_apo = ellipse_velocity(r_e+450, r_e+350, r_e+450)\n",
    "Δv_circ = sqrt(v_circ^2 + v_transfer_apo^2 - 2*v_circ*v_transfer_apo*cos(deg2rad(10)))\n",
    "\n",
    "Δv2 = (v_transfer_per - v_start) + Δv_circ"
   ]
  },
  {
   "cell_type": "code",
   "execution_count": 9,
   "id": "83f42e67",
   "metadata": {},
   "outputs": [
    {
     "data": {
      "text/plain": [
       "(0.08490969148730443, 1.3296640438534968)"
      ]
     },
     "execution_count": 9,
     "metadata": {},
     "output_type": "execute_result"
    }
   ],
   "source": [
    "v_transfer_per - v_start, Δv_circ"
   ]
  },
  {
   "cell_type": "code",
   "execution_count": 8,
   "id": "210b8601",
   "metadata": {},
   "outputs": [
    {
     "data": {
      "text/plain": [
       "0.07157670751453438"
      ]
     },
     "execution_count": 8,
     "metadata": {},
     "output_type": "execute_result"
    }
   ],
   "source": [
    "# final maneuver\n",
    "# enter transfer orbit of 200x450 km\n",
    "v_start = sqrt(μ / (r_e + 450))\n",
    "v_transfer_apo = ellipse_velocity(r_e+450, r_e+200, r_e+450)\n",
    "\n",
    "Δv3 = v_start - v_transfer_apo"
   ]
  },
  {
   "cell_type": "code",
   "execution_count": 17,
   "id": "b9034c65",
   "metadata": {},
   "outputs": [
    {
     "data": {
      "text/plain": [
       "1.4439456965308384"
      ]
     },
     "execution_count": 17,
     "metadata": {},
     "output_type": "execute_result"
    }
   ],
   "source": [
    "Δv_total = Δv1 + Δv2 + Δv3"
   ]
  },
  {
   "cell_type": "code",
   "execution_count": null,
   "id": "e34b85ed",
   "metadata": {},
   "outputs": [],
   "source": []
  }
 ],
 "metadata": {
  "kernelspec": {
   "display_name": "Julia 1.7.2",
   "language": "julia",
   "name": "julia-1.7"
  },
  "language_info": {
   "file_extension": ".jl",
   "mimetype": "application/julia",
   "name": "julia",
   "version": "1.7.2"
  },
  "latex_envs": {
   "LaTeX_envs_menu_present": true,
   "autoclose": false,
   "autocomplete": true,
   "bibliofile": "biblio.bib",
   "cite_by": "apalike",
   "current_citInitial": 1,
   "eqLabelWithNumbers": true,
   "eqNumInitial": 1,
   "hotkeys": {
    "equation": "Ctrl-E",
    "itemize": "Ctrl-I"
   },
   "labels_anchors": false,
   "latex_user_defs": false,
   "report_style_numbering": false,
   "user_envs_cfg": false
  },
  "toc": {
   "base_numbering": 1,
   "nav_menu": {},
   "number_sections": true,
   "sideBar": true,
   "skip_h1_title": false,
   "title_cell": "Table of Contents",
   "title_sidebar": "Contents",
   "toc_cell": false,
   "toc_position": {},
   "toc_section_display": true,
   "toc_window_display": false
  },
  "varInspector": {
   "cols": {
    "lenName": 16,
    "lenType": 16,
    "lenVar": 40
   },
   "kernels_config": {
    "python": {
     "delete_cmd_postfix": "",
     "delete_cmd_prefix": "del ",
     "library": "var_list.py",
     "varRefreshCmd": "print(var_dic_list())"
    },
    "r": {
     "delete_cmd_postfix": ") ",
     "delete_cmd_prefix": "rm(",
     "library": "var_list.r",
     "varRefreshCmd": "cat(var_dic_list()) "
    }
   },
   "types_to_exclude": [
    "module",
    "function",
    "builtin_function_or_method",
    "instance",
    "_Feature"
   ],
   "window_display": false
  }
 },
 "nbformat": 4,
 "nbformat_minor": 5
}
