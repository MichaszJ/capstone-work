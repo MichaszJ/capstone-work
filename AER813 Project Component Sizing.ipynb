{
 "cells": [
  {
   "cell_type": "code",
   "execution_count": 2,
   "id": "af83129f",
   "metadata": {},
   "outputs": [],
   "source": [
    "using LinearAlgebra"
   ]
  },
  {
   "cell_type": "markdown",
   "id": "69f12f53",
   "metadata": {},
   "source": [
    "# Kick Stage Preliminary Model"
   ]
  },
  {
   "cell_type": "code",
   "execution_count": 11,
   "id": "186af153",
   "metadata": {},
   "outputs": [
    {
     "data": {
      "text/plain": [
       "0.3898690317617155"
      ]
     },
     "execution_count": 11,
     "metadata": {},
     "output_type": "execute_result"
    }
   ],
   "source": [
    "# assuming solid aluminum\n",
    "ρ_al = 2700\n",
    "\n",
    "cyl_height = 0.405\n",
    "cyl_diam = 1.2\n",
    "\n",
    "cyl_mass = 85\n",
    "cyl_vol = cyl_mass / ρ_al\n",
    "\n",
    "cyl_idiam = sqrt(cyl_diam^2 - 4*cyl_mass/(ρ_al * π * cyl_height))\n",
    "\n",
    "payload_mass = 160\n",
    "payload_length = cbrt(payload_mass / ρ_al)"
   ]
  },
  {
   "cell_type": "code",
   "execution_count": 8,
   "id": "85e75af7",
   "metadata": {},
   "outputs": [
    {
     "data": {
      "text/plain": [
       "160.00000000000003"
      ]
     },
     "execution_count": 8,
     "metadata": {},
     "output_type": "execute_result"
    }
   ],
   "source": [
    "ρ_al * payload_length^3"
   ]
  },
  {
   "cell_type": "code",
   "execution_count": 10,
   "id": "30538022",
   "metadata": {},
   "outputs": [
    {
     "data": {
      "text/plain": [
       "3×3 Diagonal{Float64, Vector{Float64}}:\n",
       " 4.05328   ⋅        ⋅ \n",
       "  ⋅       4.05328   ⋅ \n",
       "  ⋅        ⋅       4.05328"
      ]
     },
     "execution_count": 10,
     "metadata": {},
     "output_type": "execute_result"
    }
   ],
   "source": [
    "# inertia matrices\n",
    "J_cyl = [\n",
    "    (cyl_mass/12) * (3 * (cyl_diam^2 + cyl_diam^2) + cyl_height^2) 0 0\n",
    "    0 (cyl_mass/12) * (3 * (cyl_diam^2 + cyl_diam^2) + cyl_height^2) 0\n",
    "    0 0 (cyl_mass/2) * (cyl_diam^2 + cyl_idiam^2)\n",
    "]\n",
    "\n",
    "J_payload = payload_mass * (payload_length^2 / 6) * I(3)"
   ]
  },
  {
   "cell_type": "code",
   "execution_count": null,
   "id": "218ae9e2",
   "metadata": {},
   "outputs": [],
   "source": [
    "#I = Ia + Ma(Ra^2 I - RaRa) + Ib + Mb(Rb^2 I - RbRb)"
   ]
  },
  {
   "cell_type": "code",
   "execution_count": 17,
   "id": "4da74ebe",
   "metadata": {},
   "outputs": [
    {
     "data": {
      "text/plain": [
       "dyad (generic function with 1 method)"
      ]
     },
     "execution_count": 17,
     "metadata": {},
     "output_type": "execute_result"
    }
   ],
   "source": [
    "function dyad(v)\n",
    "    return [\n",
    "        v[1]*v[1] v[1]*v[2] v[1]*v[3]\n",
    "        v[2]*v[1] v[2]*v[2] v[2]*v[3]\n",
    "        v[3]*v[1] v[3]*v[2] v[3]*v[3]\n",
    "    ]\n",
    "end"
   ]
  },
  {
   "cell_type": "code",
   "execution_count": 24,
   "id": "4f4c651c",
   "metadata": {},
   "outputs": [
    {
     "data": {
      "text/plain": [
       "3×3 Matrix{Float64}:\n",
       " 66.4151   0.0       0.0\n",
       "  0.0     66.4151    0.0\n",
       "  0.0      0.0     116.163"
      ]
     },
     "execution_count": 24,
     "metadata": {},
     "output_type": "execute_result"
    }
   ],
   "source": [
    "# combining objects\n",
    "# cylinder at origin, cube on top\n",
    "r_cyl = [0, 0, 0]\n",
    "r_payload = [0, 0, cyl_height/2 + payload_length/2]\n",
    "\n",
    "rigidbody_CoM = (payload_mass .* r_payload) ./ (cyl_mass + payload_mass)\n",
    "\n",
    "Ja = J_cyl + cyl_mass*((r_cyl - rigidbody_CoM).^2 .* I(3) .- dyad(r_cyl))\n",
    "Jb = J_payload + cyl_mass*((r_payload - rigidbody_CoM).^2 .* I(3) .- dyad(r_payload))\n",
    "\n",
    "J_rigidbody = Ja + Jb"
   ]
  },
  {
   "cell_type": "code",
   "execution_count": 40,
   "id": "d4e6a39b",
   "metadata": {},
   "outputs": [
    {
     "data": {
      "text/plain": [
       "0.19493451588085775"
      ]
     },
     "execution_count": 40,
     "metadata": {},
     "output_type": "execute_result"
    }
   ],
   "source": [
    "# setting up variables for sizing\n",
    "\n",
    "# rotate so that spacecraft points along velocity vector\n",
    "# in LVLH frame (x axis)\n",
    "Jf = [\n",
    "    J_rigidbody[3,3] 0 0\n",
    "    0 J_rigidbody[2,2] 0 \n",
    "    0 0 J_rigidbody[1,1]\n",
    "]\n",
    "\n",
    "# surface area\n",
    "# outer surface of cylinder + 5 sides of payload\n",
    "area = π*cyl_diam * cyl_height + 5*payload_length^2\n",
    "\n",
    "cps = -cyl_height/2 + (cyl_height + payload_length)/2\n",
    "cpa = cps"
   ]
  },
  {
   "cell_type": "code",
   "execution_count": 57,
   "id": "d51f7f60",
   "metadata": {},
   "outputs": [
    {
     "data": {
      "text/plain": [
       "kickstage_actuator_sizing (generic function with 1 method)"
      ]
     },
     "execution_count": 57,
     "metadata": {},
     "output_type": "execute_result"
    }
   ],
   "source": [
    "# https://sci-hub.mksa.top/10.1038/1831224a0\n",
    "function kickstage_actuator_sizing(J, orbit_alt, surface_area, r_CoM, cps, cpa; μ=3.986e14, lv_deviation=deg2rad(1), q=0.8, i=0, D=1, Cd=2.25, ρ=1e-10, v=7784.338495550994)\n",
    "    r_orbit = 6378e3 + orbit_alt*1e3\n",
    "    T_gravity_gradient = (3*μ / (2 * r_orbit^3)) * abs(J[1,1] - J[2,2]) * sin(deg2rad(2 * lv_deviation))\n",
    "    \n",
    "    r_cps = [cps, 0, 0]\n",
    "    F_solar = (1367 / 3e8) * surface_area * (1 + q) * cos(i)\n",
    "    T_solar_pressure = F_solar * (r_cps[1] - r_CoM[1])\n",
    "    \n",
    "    T_magnetic = D * 2 * 7.96e15 / r_orbit^3\n",
    "    \n",
    "    r_cpa = [cpa, 0, 0]\n",
    "    F_aerodynamic = 0.5 * ρ * Cd * surface_area * v^2\n",
    "    T_aerodynamic = F_aerodynamic * (r_cpa[1] - r_CoM[1])\n",
    "    \n",
    "    return T_gravity_gradient, T_solar_pressure, T_magnetic, T_aerodynamic\n",
    "end"
   ]
  },
  {
   "cell_type": "code",
   "execution_count": 58,
   "id": "24a4fa74",
   "metadata": {},
   "outputs": [
    {
     "data": {
      "text/plain": [
       "(6.36658294189817e-8, 3.65626214903134e-6, 5.593214256632894e-5, 0.003038879708349613)"
      ]
     },
     "execution_count": 58,
     "metadata": {},
     "output_type": "execute_result"
    }
   ],
   "source": [
    "kickstage_actuator_sizing(Jf, 200, area, rigidbody_CoM, cps, cpa)"
   ]
  },
  {
   "cell_type": "code",
   "execution_count": 59,
   "id": "b10c2e11",
   "metadata": {},
   "outputs": [
    {
     "data": {
      "text/plain": [
       "0.00379875"
      ]
     },
     "execution_count": 59,
     "metadata": {},
     "output_type": "execute_result"
    }
   ],
   "source": [
    "1.25*0.003039"
   ]
  },
  {
   "cell_type": "markdown",
   "id": "d1c2782c",
   "metadata": {},
   "source": [
    "# Actuator Sizing"
   ]
  },
  {
   "cell_type": "code",
   "execution_count": 5,
   "id": "17491961",
   "metadata": {},
   "outputs": [
    {
     "data": {
      "text/plain": [
       "3×3 Matrix{Float64}:\n",
       " 66.4151   0.0       0.0\n",
       "  0.0     66.4151    0.0\n",
       "  0.0      0.0     116.163"
      ]
     },
     "execution_count": 5,
     "metadata": {},
     "output_type": "execute_result"
    }
   ],
   "source": [
    "design_torque = 0.003799\n",
    "\n",
    "Jf = [\n",
    "    66.4151 0.0 0.0\n",
    "    0.0 66.4151 0.0\n",
    "    0.0 0.0 116.163\n",
    "]"
   ]
  },
  {
   "cell_type": "code",
   "execution_count": 6,
   "id": "14531fc1",
   "metadata": {},
   "outputs": [
    {
     "data": {
      "text/plain": [
       "0.0008690846634383133"
      ]
     },
     "execution_count": 6,
     "metadata": {},
     "output_type": "execute_result"
    }
   ],
   "source": [
    "# slew torque for reaction wheels\n",
    "inertia = sqrt(Jf[1,1]^2 + Jf[2,2]^2 + Jf[3,3]^2)\n",
    "slew = deg2rad(30)\n",
    "time = 600\n",
    "\n",
    "slew_torque = 4 * slew * inertia / time^2"
   ]
  },
  {
   "cell_type": "code",
   "execution_count": 7,
   "id": "bb88e671",
   "metadata": {},
   "outputs": [
    {
     "data": {
      "text/plain": [
       "3.5651740842842705"
      ]
     },
     "execution_count": 7,
     "metadata": {},
     "output_type": "execute_result"
    }
   ],
   "source": [
    "# momentum storage in reaction wheel\n",
    "period = (2*π / sqrt(398600)) * (6378 + 200)^(3/2)\n",
    "momentum = design_torque * (period / 4) * 0.707"
   ]
  },
  {
   "cell_type": "code",
   "execution_count": 13,
   "id": "b46eb808",
   "metadata": {},
   "outputs": [
    {
     "data": {
      "text/plain": [
       "0.006331666666666667"
      ]
     },
     "execution_count": 13,
     "metadata": {},
     "output_type": "execute_result"
    }
   ],
   "source": [
    "# thruster force for external disturbances\n",
    "moment_arm = cyl_diam / 2\n",
    "disturbance_thrust = design_torque / moment_arm"
   ]
  },
  {
   "cell_type": "code",
   "execution_count": 14,
   "id": "76d8198a",
   "metadata": {},
   "outputs": [
    {
     "data": {
      "text/plain": [
       "5.941956807140451"
      ]
     },
     "execution_count": 14,
     "metadata": {},
     "output_type": "execute_result"
    }
   ],
   "source": [
    "# thruster force for momentum dumping\n",
    "time = 1\n",
    "momentum_thrust = momentum / (moment_arm * time)"
   ]
  },
  {
   "cell_type": "code",
   "execution_count": null,
   "id": "bd1d1ff8",
   "metadata": {},
   "outputs": [],
   "source": []
  }
 ],
 "metadata": {
  "kernelspec": {
   "display_name": "Julia 1.7.2",
   "language": "julia",
   "name": "julia-1.7"
  },
  "language_info": {
   "file_extension": ".jl",
   "mimetype": "application/julia",
   "name": "julia",
   "version": "1.7.2"
  },
  "toc": {
   "base_numbering": 1,
   "nav_menu": {},
   "number_sections": false,
   "sideBar": true,
   "skip_h1_title": false,
   "title_cell": "Table of Contents",
   "title_sidebar": "Contents",
   "toc_cell": false,
   "toc_position": {},
   "toc_section_display": true,
   "toc_window_display": false
  },
  "varInspector": {
   "cols": {
    "lenName": 16,
    "lenType": 16,
    "lenVar": 40
   },
   "kernels_config": {
    "python": {
     "delete_cmd_postfix": "",
     "delete_cmd_prefix": "del ",
     "library": "var_list.py",
     "varRefreshCmd": "print(var_dic_list())"
    },
    "r": {
     "delete_cmd_postfix": ") ",
     "delete_cmd_prefix": "rm(",
     "library": "var_list.r",
     "varRefreshCmd": "cat(var_dic_list()) "
    }
   },
   "types_to_exclude": [
    "module",
    "function",
    "builtin_function_or_method",
    "instance",
    "_Feature"
   ],
   "window_display": false
  }
 },
 "nbformat": 4,
 "nbformat_minor": 5
}
